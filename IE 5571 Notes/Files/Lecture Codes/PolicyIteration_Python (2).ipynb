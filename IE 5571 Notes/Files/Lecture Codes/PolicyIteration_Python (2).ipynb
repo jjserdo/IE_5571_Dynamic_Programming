{
 "cells": [
  {
   "cell_type": "code",
   "execution_count": 33,
   "id": "4240fc45",
   "metadata": {},
   "outputs": [],
   "source": [
    "import numpy as np\n",
    "\n",
    "def PolicyPrediction(eps, pie,Length):\n",
    "    # Runs policy prediction algorithm to evaluate the cost of policy pie\n",
    "    # Returns a vector V. This is done on a grid world with 16 states, \n",
    "    # termination at NW and SE corner, cost of -1 per step. \n",
    "    # For policy use 0 = up, 1 = right, 2 = down, 3 = left\n",
    "    Size=Length**2\n",
    "    V = np.zeros(Size)  # Initialize V, 0 and 15 are terminal states\n",
    "    \n",
    "    while True:\n",
    "        Delta = 0\n",
    "        for s in range(1, Size-1):\n",
    "            v = V[s]  \n",
    "            V[s] = (pie[0, s ] * (-1 + V[GWJR(s, 0, Length)]) +\n",
    "                        pie[1, s] * (-1 + V[GWJR(s, 1, Length)]) +\n",
    "                        pie[2, s] * (-1 + V[GWJR(s, 2, Length)]) +\n",
    "                        pie[3, s] * (-1 + V[GWJR(s, 3, Length)]))\n",
    "            \n",
    "            Delta = max(Delta, abs(v - V[s]))\n",
    "        \n",
    "        if Delta < eps:\n",
    "            break\n",
    "    \n",
    "    return V\n",
    "\n",
    "\n",
    "\n"
   ]
  },
  {
   "cell_type": "code",
   "execution_count": 43,
   "id": "32b56150",
   "metadata": {},
   "outputs": [],
   "source": [
    "def GWJR(OldState, Jump, Length):\n",
    "    # Function to give a new state jumping from the current state based on jump and\n",
    "    # the size of the grid. Grid is assumed to be square with NW corner corresponding to\n",
    "    # state 0, and reflecting boundary conditions. Jump encoding: 1 = up, 2 = right, \n",
    "    # 3 = down, 4 = left.\n",
    "\n",
    "    switch = {\n",
    "        0: lambda s: s if s <= Length-1 else s - Length,\n",
    "        1: lambda s: s if (s+1) % Length == 0 else s + 1,\n",
    "        2: lambda s: s if s >= Length**2 - Length else s + Length,\n",
    "        3: lambda s: s if s % Length == 0 else s - 1,\n",
    "    }\n",
    "\n",
    "    if Jump in switch:\n",
    "        NewState = switch[Jump](OldState)\n",
    "    else:\n",
    "        raise ValueError('Bad Jump Value')\n",
    "\n",
    "    return NewState\n",
    "\n",
    "\n"
   ]
  },
  {
   "cell_type": "code",
   "execution_count": 34,
   "id": "acbc1a09",
   "metadata": {},
   "outputs": [],
   "source": [
    "def PolicyIterationGW(Length):\n",
    "    # Runs policy iteration algorithm for a square Grid world with side length Length\n",
    "    Size = Length**2\n",
    "    pie = 0.25 * np.ones((4, Size))\n",
    "    eps = 1e-9\n",
    "    \n",
    "\n",
    "        \n",
    "    while True:\n",
    "        V = PolicyPrediction(eps, pie, Length)\n",
    "        policy_stable = True\n",
    "        \n",
    "        for s in range(1, Size - 1):\n",
    "            pie_old = pie[:, s].copy()\n",
    "            pie[:, s] = np.zeros(4)\n",
    "            \n",
    "            A = [-1 + V[GWJR(s, a, Length)] for a in range(4)]\n",
    "            I = np.where(A == max(A))[0]\n",
    "            pie[I, s] = 1 / len(I)\n",
    "            \n",
    "            if not np.array_equal(pie[:, s], pie_old):\n",
    "                policy_stable = False\n",
    "        \n",
    "        if policy_stable:\n",
    "            print(V)\n",
    "            break\n",
    "            \n",
    "    \n",
    "    return pie\n"
   ]
  },
  {
   "cell_type": "code",
   "execution_count": null,
   "id": "ef69c89e",
   "metadata": {},
   "outputs": [],
   "source": []
  }
 ],
 "metadata": {
  "kernelspec": {
   "display_name": "Python 3 (ipykernel)",
   "language": "python",
   "name": "python3"
  },
  "language_info": {
   "codemirror_mode": {
    "name": "ipython",
    "version": 3
   },
   "file_extension": ".py",
   "mimetype": "text/x-python",
   "name": "python",
   "nbconvert_exporter": "python",
   "pygments_lexer": "ipython3",
   "version": "3.10.9"
  }
 },
 "nbformat": 4,
 "nbformat_minor": 5
}
