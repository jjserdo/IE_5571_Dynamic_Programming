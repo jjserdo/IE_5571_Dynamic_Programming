{
 "cells": [
  {
   "cell_type": "code",
   "execution_count": 23,
   "id": "4240fc45",
   "metadata": {},
   "outputs": [],
   "source": [
    "import numpy as np\n",
    "\n",
    "def PolicyPrediction(eps, pie):\n",
    "    # Runs policy prediction algorithm to evaluate the cost of policy pie\n",
    "    # Returns a vector V. This is done on a grid world with 16 states, \n",
    "    # termination at NW and SE corner, cost of -1 per step. \n",
    "    # For policy use 0 = up, 1 = right, 2 = down, 3 = left\n",
    "    \n",
    "    V = np.zeros(16)  # Initialize V, 0 and 15 are terminal states\n",
    "    \n",
    "    while True:\n",
    "        Delta = 0\n",
    "        for s in range(1, 15):\n",
    "            v = V[s]  \n",
    "            V[s] = (pie[0, s ] * (-1 + V[GWJR(s, 0, 4)]) +\n",
    "                        pie[1, s] * (-1 + V[GWJR(s, 1, 4)]) +\n",
    "                        pie[2, s] * (-1 + V[GWJR(s, 2, 4)]) +\n",
    "                        pie[3, s] * (-1 + V[GWJR(s, 3, 4)]))\n",
    "            \n",
    "            Delta = max(Delta, abs(v - V[s]))\n",
    "        \n",
    "        if Delta < eps:\n",
    "            break\n",
    "    \n",
    "    return V\n",
    "\n",
    "\n",
    "\n"
   ]
  },
  {
   "cell_type": "code",
   "execution_count": 10,
   "id": "32b56150",
   "metadata": {},
   "outputs": [],
   "source": [
    "def GWJR(OldState, Jump, Size):\n",
    "    # Function to give a new state jumping from the current state based on jump and\n",
    "    # the size of the grid. Grid is assumed to be square with NW corner corresponding to\n",
    "    # state 0, and reflecting boundary conditions. Jump encoding: 1 = up, 2 = right, \n",
    "    # 3 = down, 4 = left.\n",
    "\n",
    "    switch = {\n",
    "        0: lambda s: s if s <= Size-1 else s - Size,\n",
    "        1: lambda s: s if (s+1) % Size == 0 else s + 1,\n",
    "        2: lambda s: s if s >= Size**2 - Size else s + Size,\n",
    "        3: lambda s: s if s % Size == 0 else s - 1,\n",
    "    }\n",
    "\n",
    "    if Jump in switch:\n",
    "        NewState = switch[Jump](OldState)\n",
    "    else:\n",
    "        raise ValueError('Bad Jump Value')\n",
    "\n",
    "    return NewState\n",
    "\n",
    "\n"
   ]
  },
  {
   "cell_type": "code",
   "execution_count": 25,
   "id": "df6e2f7f",
   "metadata": {},
   "outputs": [],
   "source": [
    "eps=.00002\n",
    "pie=(1/4) * np.ones((4, 15))"
   ]
  },
  {
   "cell_type": "code",
   "execution_count": 26,
   "id": "ab8eb4b7",
   "metadata": {},
   "outputs": [
    {
     "name": "stdout",
     "output_type": "stream",
     "text": [
      "[  0.         -13.99986967 -19.99981263 -21.99979376 -13.99986967\n",
      " -17.99984006 -19.99982635 -19.99982833 -19.99981263 -19.99982635\n",
      " -17.99985347 -13.9998906  -21.99979376 -19.99982833 -13.9998906\n",
      "   0.        ]\n"
     ]
    }
   ],
   "source": [
    "V = PolicyPrediction(eps, pie)\n",
    "print(V)"
   ]
  },
  {
   "cell_type": "code",
   "execution_count": null,
   "id": "acbc1a09",
   "metadata": {},
   "outputs": [],
   "source": []
  }
 ],
 "metadata": {
  "kernelspec": {
   "display_name": "Python 3 (ipykernel)",
   "language": "python",
   "name": "python3"
  },
  "language_info": {
   "codemirror_mode": {
    "name": "ipython",
    "version": 3
   },
   "file_extension": ".py",
   "mimetype": "text/x-python",
   "name": "python",
   "nbconvert_exporter": "python",
   "pygments_lexer": "ipython3",
   "version": "3.10.9"
  }
 },
 "nbformat": 4,
 "nbformat_minor": 5
}
